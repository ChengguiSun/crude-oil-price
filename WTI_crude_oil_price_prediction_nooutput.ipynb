{
  "nbformat": 4,
  "nbformat_minor": 0,
  "metadata": {
    "kernelspec": {
      "display_name": "Python 3",
      "language": "python",
      "name": "python3"
    },
    "language_info": {
      "codemirror_mode": {
        "name": "ipython",
        "version": 3
      },
      "file_extension": ".py",
      "mimetype": "text/x-python",
      "name": "python",
      "nbconvert_exporter": "python",
      "pygments_lexer": "ipython3",
      "version": "3.7.7"
    },
    "colab": {
      "name": "WTI crude oil price prediction_nooutput.ipynb",
      "provenance": [],
      "collapsed_sections": [
        "USr9KkHFvmx0",
        "qd3rd6Xevmx8",
        "zMmpjGSRvmyO",
        "Pl8yFA3xvmyW",
        "77CpKLS3vmyn",
        "W1r_vs_-vmzC",
        "cpdMVp9bvmzJ",
        "mjnv7ddNvmz1",
        "-f9nMesxvm0C",
        "Wkf4U3wMvm0g",
        "sJM1EQovvm0t",
        "2IVfplUcvm07",
        "RlaMfomzvm1A"
      ]
    }
  },
  "cells": [
    {
      "cell_type": "markdown",
      "metadata": {
        "id": "YHD_27UKvmxA",
        "colab_type": "text"
      },
      "source": [
        "## WTI Crude Oil Price Prediciton with SVR and LSTM Models\n",
        "\n",
        "### 1. Introduction\n",
        "\n",
        "### 1.1 Project Background - Use Case\n",
        "\n",
        "Although many efforts have been put into green energy development because of the growing concern of climate changes, crude oil is still the most important commodity in the world, because human society heavily depends on energy and synthetic materials produced from fossil fuels. It is very essential to have a better understanding of the potential trend of crude oil prices for policymakers, regulators, investors and producers to manage crude oil production, monitor and evaluate the local and global economies. \n",
        "\n",
        "The oil price generally refers to the spot price of a barrel of benchmark crude oil — a reference price for buyers and sellers of crude oil such as West Texas Intermediate (WTI), Brent Crude, Dubai Crude, OPEC Reference Basket, Tapis crude, Bonny Light, Urals oil, Isthmus and Western Canadian Select (WCS). The spot price is the price for a one-time open market transaction for immediate delivery of a specific quantity of product at a specific location, where the commodity is purchased \"on the spot\" at current market rates. The price of a barrel of oil is different as a result of its grade—determined by factors such as its specific gravity or American Petroleum Institute (API) gravity and its sulphur content—and its location—for example, its proximity to tidewater and refineries. \n",
        "\n",
        "The crude oil prices are typically quoted at a particular location. In this project, machine learning (SVR) and deep learning (LSTM) models are developed for an Oil & Gas Commission in North America to predict the WTI spot price based on WTI historical oil price. The price of WTI is a crude stream produced in Texas and southern Oklahoma, which serves as a reference or \"marker\" for pricing a number of other crude streams and which is traded in the domestic spot market at Cushing, Oklahoma. \n",
        "\n",
        "*Sources of Reference: Wikipedia"
      ]
    },
    {
      "cell_type": "markdown",
      "metadata": {
        "id": "1KhAZ_6DvmxB",
        "colab_type": "text"
      },
      "source": [
        "### 1. 2 Install and Import Python Libraries for Data Retrieval, Analysis and Modeling\n"
      ]
    },
    {
      "cell_type": "code",
      "metadata": {
        "id": "2VRhXgMCvmxC",
        "colab_type": "code",
        "colab": {}
      },
      "source": [
        "!pip install EIA_python\n",
        "!pip install julian\n",
        "!pip install statsmodels\n",
        "!pip install texttable\n",
        "\n",
        "import julian\n",
        "import pandas as pd\n",
        "import numpy as np\n",
        "import scipy as sp\n",
        "import tensorflow as tf\n",
        "import keras\n",
        "import statsmodels.api as sm\n",
        "import warnings\n",
        "warnings.filterwarnings(\"ignore\")\n",
        "import sklearn.linear_model\n",
        "import sklearn.metrics\n",
        "from sklearn.preprocessing import MinMaxScaler\n",
        "from keras.preprocessing import sequence\n",
        "from keras.models import load_model\n",
        "from keras.models import Sequential\n",
        "from keras.layers import Dense\n",
        "from keras.layers import LSTM\n",
        "from keras.layers import Dropout\n",
        "from keras.layers import Input\n",
        "from keras.models import Model\n",
        "import h5py\n",
        "\n",
        "%matplotlib inline\n",
        "import matplotlib\n",
        "import matplotlib.pyplot as plt\n",
        "import matplotlib.pylab as pylab\n",
        "import matplotlib.dates as mdates"
      ],
      "execution_count": null,
      "outputs": []
    },
    {
      "cell_type": "markdown",
      "metadata": {
        "id": "9Ax_Ke7IvmxH",
        "colab_type": "text"
      },
      "source": [
        "### 2. Dataset Retrieval, Data Assessment and Exploration"
      ]
    },
    {
      "cell_type": "markdown",
      "metadata": {
        "id": "VIBFL1YfvmxI",
        "colab_type": "text"
      },
      "source": [
        "#### 2.1 Retrieve WTI Oil Price Dataset from EIA Database"
      ]
    },
    {
      "cell_type": "code",
      "metadata": {
        "id": "6mSKyXc9vmxI",
        "colab_type": "code",
        "colab": {}
      },
      "source": [
        "# use eia api and api key to retrieve oil price data by series id and create a dataframe\n",
        "import eia\n",
        "import os\n",
        "\n",
        "api_key = \"xxxxxxxxxxxxxxxxxxx\"\n",
        "api = eia.API(api_key)\n",
        "\n",
        "### Retrieve Data By Series ID ###\n",
        "series_search = api.data_by_series(series = 'PET.RWTC.D')\n",
        "\n",
        "for key,value in series_search.items():\n",
        "    print(key,value)\n",
        "\n",
        "wti = pd.DataFrame(series_search)"
      ],
      "execution_count": null,
      "outputs": []
    },
    {
      "cell_type": "markdown",
      "metadata": {
        "id": "i5PEglomvmxM",
        "colab_type": "text"
      },
      "source": [
        "#### 2.2 Assess Data Quality of Oil Price Dataset"
      ]
    },
    {
      "cell_type": "code",
      "metadata": {
        "id": "ioCjpY3LvmxM",
        "colab_type": "code",
        "colab": {}
      },
      "source": [
        "# check the starting date of historical data\n",
        "wti.head()"
      ],
      "execution_count": null,
      "outputs": []
    },
    {
      "cell_type": "code",
      "metadata": {
        "id": "CpYxpwPVvmxQ",
        "colab_type": "code",
        "colab": {}
      },
      "source": [
        "# check the end date of dataset\n",
        "wti.tail()"
      ],
      "execution_count": null,
      "outputs": []
    },
    {
      "cell_type": "code",
      "metadata": {
        "id": "agzmYyhYvmxT",
        "colab_type": "code",
        "colab": {}
      },
      "source": [
        "# name index column as 'Date'\n",
        "wti.index.name = 'Date'\n",
        "wti"
      ],
      "execution_count": null,
      "outputs": []
    },
    {
      "cell_type": "code",
      "metadata": {
        "id": "FZwYKPMyvmxW",
        "colab_type": "code",
        "colab": {}
      },
      "source": [
        "# rename price column as 'WTI Oil Price (USD/Barrel)'\n",
        "wti = wti.rename(columns = {'Cushing, OK WTI Spot Price FOB, Daily (Dollars per Barrel)':'WTI Oil Price (USD/Barrel)'})\n",
        "wti"
      ],
      "execution_count": null,
      "outputs": []
    },
    {
      "cell_type": "code",
      "metadata": {
        "id": "hSt9QmTNvmxa",
        "colab_type": "code",
        "colab": {}
      },
      "source": [
        "# reset dateframe index and keep 'Date' column\n",
        "wti = wti.reset_index(drop=False)\n",
        "wti"
      ],
      "execution_count": null,
      "outputs": []
    },
    {
      "cell_type": "code",
      "metadata": {
        "id": "OSi11gBuvmxe",
        "colab_type": "code",
        "colab": {}
      },
      "source": [
        "# set 'Date' format to year-month-day format\n",
        "from datetime import datetime\n",
        "wti['Date'] =pd.to_datetime(wti['Date'].str[:-3], format='%Y %m%d')\n",
        "wti"
      ],
      "execution_count": null,
      "outputs": []
    },
    {
      "cell_type": "code",
      "metadata": {
        "id": "TwGt9u4Qvmxh",
        "colab_type": "code",
        "colab": {}
      },
      "source": [
        "# set 'Date' column as index again\n",
        "wti_date_index = wti.set_index(['Date'])\n",
        "wti_date_index"
      ],
      "execution_count": null,
      "outputs": []
    },
    {
      "cell_type": "code",
      "metadata": {
        "id": "PlPe4fn7vmxl",
        "colab_type": "code",
        "colab": {}
      },
      "source": [
        "# check summary statistics of wti dataframe\n",
        "wti.describe()"
      ],
      "execution_count": null,
      "outputs": []
    },
    {
      "cell_type": "code",
      "metadata": {
        "id": "1xKlljuevmxs",
        "colab_type": "code",
        "colab": {}
      },
      "source": [
        "# check general information of dataframe: null values, dtypes, count\n",
        "wti.info()"
      ],
      "execution_count": null,
      "outputs": []
    },
    {
      "cell_type": "code",
      "metadata": {
        "id": "3694j5rhvmxw",
        "colab_type": "code",
        "colab": {}
      },
      "source": [
        "# check whether there are missing values by columns\n",
        "print('Columns: Number of missing values')\n",
        "print(wti_date_index.isnull().sum(axis=0))"
      ],
      "execution_count": null,
      "outputs": []
    },
    {
      "cell_type": "markdown",
      "metadata": {
        "id": "USr9KkHFvmx0",
        "colab_type": "text"
      },
      "source": [
        "#### 2.3 Data Exploration and Visulization of Oil Price Dataset"
      ]
    },
    {
      "cell_type": "code",
      "metadata": {
        "id": "q1DAMT2svmx0",
        "colab_type": "code",
        "colab": {}
      },
      "source": [
        "# for a time-series model, data is explored by visulizing the price against date and days\n",
        "plt.figure(figsize=(8,5))\n",
        "plt.plot(wti_date_index, color = 'blue', label = 'WTI Historical Crude Oil Prices')\n",
        "plt.title('WTI Historical Crude Oil Prices')\n",
        "plt.ylabel('Price (USD/Barrel)')\n",
        "plt.xlabel('Date')\n",
        "plt.legend()\n",
        "plt.show()"
      ],
      "execution_count": null,
      "outputs": []
    },
    {
      "cell_type": "code",
      "metadata": {
        "id": "fyqaGOlZvmx4",
        "colab_type": "code",
        "colab": {}
      },
      "source": [
        "wti_plot = wti.iloc[:,1:2].values.astype(float)\n",
        "\n",
        "plt.figure(figsize=(8,5))\n",
        "plt.plot(wti_plot, color = 'blue', label = 'Historical Crude Oil Prices')\n",
        "plt.title('WTI Historical Crude Oil Prices')\n",
        "plt.xlabel('Time (Days)')\n",
        "plt.ylabel('Prices(USD/Barrel)')\n",
        "plt.legend()\n",
        "plt.show()"
      ],
      "execution_count": null,
      "outputs": []
    },
    {
      "cell_type": "markdown",
      "metadata": {
        "id": "JVsbWdzmvmx8",
        "colab_type": "text"
      },
      "source": [
        "### 3. Predict WTI Crude Oil Price with Support Vector Regression (SVR)"
      ]
    },
    {
      "cell_type": "markdown",
      "metadata": {
        "id": "qd3rd6Xevmx8",
        "colab_type": "text"
      },
      "source": [
        "#### 3.1 Prepare Dataset for SVR Modeling"
      ]
    },
    {
      "cell_type": "code",
      "metadata": {
        "id": "5vF5V3bxvmx9",
        "colab_type": "code",
        "colab": {}
      },
      "source": [
        "# Convert date to julian date and add a new column\n",
        "wti_date_index['Julian'] = wti_date_index.index.to_julian_date()\n",
        "wti_julian = wti_date_index\n",
        "wti_julian.head()"
      ],
      "execution_count": null,
      "outputs": []
    },
    {
      "cell_type": "code",
      "metadata": {
        "id": "ncDQjaHNvmyA",
        "colab_type": "code",
        "colab": {}
      },
      "source": [
        "wti_julian_training = wti_julian[:-800]\n",
        "wti_julian_training.head()"
      ],
      "execution_count": null,
      "outputs": []
    },
    {
      "cell_type": "code",
      "metadata": {
        "id": "SDTJyEoTvmyE",
        "colab_type": "code",
        "colab": {}
      },
      "source": [
        "wti_julian_test = wti_julian[-800:]\n",
        "wti_julian_test.tail()"
      ],
      "execution_count": null,
      "outputs": []
    },
    {
      "cell_type": "code",
      "metadata": {
        "id": "17X42wabvmyK",
        "colab_type": "code",
        "colab": {}
      },
      "source": [
        "X_training_svr = wti_julian_training[\"Julian\"].to_frame()\n",
        "y_training_svr = wti_julian_training[\"WTI Oil Price (USD/Barrel)\"].to_frame()\n",
        "\n",
        "X_test_svr = wti_julian_test[\"Julian\"].to_frame()\n",
        "y_test_svr = wti_julian_test[\"WTI Oil Price (USD/Barrel)\"].to_frame()"
      ],
      "execution_count": null,
      "outputs": []
    },
    {
      "cell_type": "markdown",
      "metadata": {
        "id": "zMmpjGSRvmyO",
        "colab_type": "text"
      },
      "source": [
        "#### 3.2 SVR Modeling and Testset Visulization"
      ]
    },
    {
      "cell_type": "code",
      "metadata": {
        "id": "L16z6BT8vmyO",
        "colab_type": "code",
        "colab": {}
      },
      "source": [
        "# create model\n",
        "from sklearn.svm import SVR\n",
        "\n",
        "oil_svr = SVR(kernel='rbf', C=1e3, gamma=0.001, epsilon=.1).fit(X_training_svr, y_training_svr) "
      ],
      "execution_count": null,
      "outputs": []
    },
    {
      "cell_type": "code",
      "metadata": {
        "id": "k-SxMOK2vmyQ",
        "colab_type": "code",
        "colab": {}
      },
      "source": [
        "# get predicted results\n",
        "y_pred_svr = list(map(lambda x: float(x), oil_svr.predict(X_test_svr)))"
      ],
      "execution_count": null,
      "outputs": []
    },
    {
      "cell_type": "code",
      "metadata": {
        "id": "SCnm4oJuvmyT",
        "colab_type": "code",
        "colab": {}
      },
      "source": [
        "# plot test dataset\n",
        "plt.figure(figsize=(8,5))\n",
        "plt.plot(X_test_svr, y_test_svr, color = 'blue', label = 'Actual Crude Oil Prices')\n",
        "plt.plot(X_test_svr, y_pred_svr, color = 'red', label = 'Predicted Crude Oil Prices')\n",
        "plt.title('WTI Crude Oil Prices Prediction with SVR')\n",
        "plt.xlabel('Julian Date')\n",
        "plt.ylabel('Crude Oil Prices')\n",
        "plt.legend()\n",
        "plt.show()"
      ],
      "execution_count": null,
      "outputs": []
    },
    {
      "cell_type": "markdown",
      "metadata": {
        "id": "Pl8yFA3xvmyW",
        "colab_type": "text"
      },
      "source": [
        " #### 3.3 SVR Model Performance Evaluation"
      ]
    },
    {
      "cell_type": "code",
      "metadata": {
        "id": "66LhxMySvmyX",
        "colab_type": "code",
        "colab": {}
      },
      "source": [
        "from sklearn.metrics import mean_absolute_error, mean_squared_error"
      ],
      "execution_count": null,
      "outputs": []
    },
    {
      "cell_type": "code",
      "metadata": {
        "id": "iWJDw1qqvmyb",
        "colab_type": "code",
        "colab": {}
      },
      "source": [
        "print(\"Mean absolute error: %.2f\" % mean_absolute_error(y_pred_svr, y_test_svr))"
      ],
      "execution_count": null,
      "outputs": []
    },
    {
      "cell_type": "code",
      "metadata": {
        "id": "a710vXnjvmyf",
        "colab_type": "code",
        "colab": {}
      },
      "source": [
        "print(\"Mean_squared_error: %.2f\" % mean_squared_error(y_pred_svr, y_test_svr))"
      ],
      "execution_count": null,
      "outputs": []
    },
    {
      "cell_type": "code",
      "metadata": {
        "id": "BT2aiGlIvmyj",
        "colab_type": "code",
        "colab": {}
      },
      "source": [
        "from sklearn.metrics import r2_score\n",
        "print(\"R2-score: %.2f\" % r2_score(y_pred_svr, y_test_svr) )"
      ],
      "execution_count": null,
      "outputs": []
    },
    {
      "cell_type": "markdown",
      "metadata": {
        "id": "2MuRceYqvmyn",
        "colab_type": "text"
      },
      "source": [
        "### 4 Predict WTI Crude Oil Price with LSTM Using Sequential API"
      ]
    },
    {
      "cell_type": "markdown",
      "metadata": {
        "id": "77CpKLS3vmyn",
        "colab_type": "text"
      },
      "source": [
        "#### 4.1 Preprocess Data for LSTM Modeling with Sequential API"
      ]
    },
    {
      "cell_type": "code",
      "metadata": {
        "id": "AKlhvLvQvmyo",
        "colab_type": "code",
        "colab": {}
      },
      "source": [
        "# split dataset\n",
        "sapi_training= wti[:-800]\n",
        "sapi_training = sapi_training.drop(['Date'], axis = 1)\n",
        "\n",
        "sapi_test = wti[-800:]\n",
        "sapi_test = sapi_test.drop(['Date'], axis = 1)"
      ],
      "execution_count": null,
      "outputs": []
    },
    {
      "cell_type": "code",
      "metadata": {
        "id": "Gt6H6UfFvmyr",
        "colab_type": "code",
        "colab": {}
      },
      "source": [
        "sapi_training.head()"
      ],
      "execution_count": null,
      "outputs": []
    },
    {
      "cell_type": "code",
      "metadata": {
        "id": "9nGONq--vmyv",
        "colab_type": "code",
        "colab": {}
      },
      "source": [
        "sapi_training.tail()"
      ],
      "execution_count": null,
      "outputs": []
    },
    {
      "cell_type": "code",
      "metadata": {
        "id": "OrRsI7LTvmyy",
        "colab_type": "code",
        "colab": {}
      },
      "source": [
        "sapi_test.head()"
      ],
      "execution_count": null,
      "outputs": []
    },
    {
      "cell_type": "code",
      "metadata": {
        "id": "VxeolVQJvmy1",
        "colab_type": "code",
        "colab": {}
      },
      "source": [
        "sapi_test.tail()"
      ],
      "execution_count": null,
      "outputs": []
    },
    {
      "cell_type": "code",
      "metadata": {
        "id": "c60d2x8Pvmy4",
        "colab_type": "code",
        "colab": {}
      },
      "source": [
        "# feature scaling\n",
        "scaler = MinMaxScaler()\n",
        "sapi_training_scaled = scaler.fit_transform(sapi_training)\n",
        "sapi_training_scaled"
      ],
      "execution_count": null,
      "outputs": []
    },
    {
      "cell_type": "code",
      "metadata": {
        "id": "YfYd-DlKvmy6",
        "colab_type": "code",
        "colab": {}
      },
      "source": [
        "# check training set shape\n",
        "sapi_training_scaled.shape[0]"
      ],
      "execution_count": null,
      "outputs": []
    },
    {
      "cell_type": "code",
      "metadata": {
        "id": "aE9dX-o-vmy9",
        "colab_type": "code",
        "colab": {}
      },
      "source": [
        "# construct training dataset with 30 days look_back\n",
        "look_back = 30 # or time steps? \n",
        "X_train_sapi = []\n",
        "y_train_sapi= []\n",
        "\n",
        "for i in range(look_back, sapi_training_scaled.shape[0]):\n",
        "    X_train_sapi.append(sapi_training_scaled[i-look_back:i])\n",
        "    y_train_sapi.append(sapi_training_scaled[i,0])\n",
        "    \n",
        "X_train_sapi, y_train_sapi =np.array(X_train_sapi), np.array(y_train_sapi)"
      ],
      "execution_count": null,
      "outputs": []
    },
    {
      "cell_type": "code",
      "metadata": {
        "id": "I1V7_izQvmy_",
        "colab_type": "code",
        "colab": {}
      },
      "source": [
        "# check the ship of training dataset\n",
        "X_train_sapi.shape, y_train_sapi.shape"
      ],
      "execution_count": null,
      "outputs": []
    },
    {
      "cell_type": "markdown",
      "metadata": {
        "id": "W1r_vs_-vmzC",
        "colab_type": "text"
      },
      "source": [
        "#### 4.2 Build LSTM Model with Sequential API"
      ]
    },
    {
      "cell_type": "code",
      "metadata": {
        "id": "jt1trIbJvmzD",
        "colab_type": "code",
        "colab": {}
      },
      "source": [
        "# define model using sequential API. Influence of layers on prediction was investigated, but wasn't included in this notebook\n",
        "\n",
        "regressor = Sequential()\n",
        "\n",
        "regressor.add(LSTM(units = 50, activation = 'relu', return_sequences = True, input_shape = (X_train_sapi.shape[1], 1)))\n",
        "regressor.add(Dropout(0.2))\n",
        "\n",
        "regressor.add(LSTM(units = 60, activation = 'relu', return_sequences = True))\n",
        "regressor.add(Dropout(0.3))\n",
        "\n",
        "regressor.add(LSTM(units = 80, activation = 'relu', return_sequences = True))\n",
        "regressor.add(Dropout(0.4))\n",
        "\n",
        "regressor.add(LSTM(units = 80, activation = 'relu'))\n",
        "regressor.add(Dropout(0.5))\n",
        "\n",
        "regressor.add(Dense(units = 1))\n",
        "\n",
        "# initialising the LSTM model with mse loss function\n",
        "# adam is fast starting off and then gets slower and more precise\n",
        "# mse -> mean squared error loss function\n",
        "regressor.compile(optimizer='adam', loss='mse')\n",
        "\n",
        "# check model summary\n",
        "regressor.summary()"
      ],
      "execution_count": null,
      "outputs": []
    },
    {
      "cell_type": "code",
      "metadata": {
        "id": "gMFZ-aDHvmzG",
        "colab_type": "code",
        "colab": {}
      },
      "source": [
        "# fit model by inverstigating various values of epochs, batch_size\n",
        "regressor.fit(X_train_sapi, y_train_sapi, epochs = 30, batch_size = 32)"
      ],
      "execution_count": null,
      "outputs": []
    },
    {
      "cell_type": "markdown",
      "metadata": {
        "id": "cpdMVp9bvmzJ",
        "colab_type": "text"
      },
      "source": [
        "#### 4.3 Test LSTM Sequential Model"
      ]
    },
    {
      "cell_type": "code",
      "metadata": {
        "id": "5C2KmnMlvmzJ",
        "colab_type": "code",
        "colab": {}
      },
      "source": [
        "# check the last 30 days of training dataset\n",
        "sapi_training.tail(30)"
      ],
      "execution_count": null,
      "outputs": []
    },
    {
      "cell_type": "code",
      "metadata": {
        "id": "IjbxWIgLvmzM",
        "colab_type": "code",
        "colab": {}
      },
      "source": [
        "# get the last 30 days of training dataset\n",
        "past_30_days = sapi_training.tail(30)"
      ],
      "execution_count": null,
      "outputs": []
    },
    {
      "cell_type": "code",
      "metadata": {
        "id": "1Dg6s0rHvmzP",
        "colab_type": "code",
        "colab": {}
      },
      "source": [
        "# append last 30 days of training dataset to test dataset\n",
        "df_test_sapi = past_30_days.append(sapi_test, ignore_index = True)\n",
        "df_test_sapi"
      ],
      "execution_count": null,
      "outputs": []
    },
    {
      "cell_type": "code",
      "metadata": {
        "id": "GmXdGT4WvmzW",
        "colab_type": "code",
        "colab": {}
      },
      "source": [
        "# feature scaling of test dataset\n",
        "inputs_sapi = scaler.transform(df_test_sapi)\n",
        "inputs_sapi"
      ],
      "execution_count": null,
      "outputs": []
    },
    {
      "cell_type": "code",
      "metadata": {
        "id": "Yc4-xsX3vmzZ",
        "colab_type": "code",
        "colab": {}
      },
      "source": [
        "# construct test dataset\n",
        "X_test_sapi = []\n",
        "y_test_sapi = []\n",
        "\n",
        "for i in range (look_back, inputs_sapi.shape[0]):\n",
        "    X_test_sapi.append(inputs_sapi[i-look_back:i])\n",
        "    y_test_sapi.append(inputs_sapi[i, 0])\n",
        "    \n",
        "X_test_sapi, y_test_sapi =np.array(X_test_sapi), np.array(y_test_sapi)\n",
        "X_test_sapi.shape, y_test_sapi.shape"
      ],
      "execution_count": null,
      "outputs": []
    },
    {
      "cell_type": "code",
      "metadata": {
        "id": "X3QFx_nvvmze",
        "colab_type": "code",
        "colab": {}
      },
      "source": [
        "# predicted values of test dataset\n",
        "y_pred_sapi = regressor.predict(X_test_sapi)\n",
        "y_pred_sapi"
      ],
      "execution_count": null,
      "outputs": []
    },
    {
      "cell_type": "code",
      "metadata": {
        "id": "F-tw6qfbvmzg",
        "colab_type": "code",
        "colab": {}
      },
      "source": [
        "# scaler value\n",
        "scaler.scale_"
      ],
      "execution_count": null,
      "outputs": []
    },
    {
      "cell_type": "code",
      "metadata": {
        "id": "nRXw-kjRvmzm",
        "colab_type": "code",
        "colab": {}
      },
      "source": [
        "# inversed scaler\n",
        "scale = 1/0.00740412\n",
        "scale"
      ],
      "execution_count": null,
      "outputs": []
    },
    {
      "cell_type": "code",
      "metadata": {
        "id": "UtFVxW4kvmzp",
        "colab_type": "code",
        "colab": {}
      },
      "source": [
        "# predicted oil pirce values and oil pirce of test dataset\n",
        "y_pred_sapi = y_pred_sapi*scale\n",
        "y_test_sapi = y_test_sapi*scale"
      ],
      "execution_count": null,
      "outputs": []
    },
    {
      "cell_type": "code",
      "metadata": {
        "id": "Ihy1ohEEvmzs",
        "colab_type": "code",
        "colab": {}
      },
      "source": [
        "y_pred_sapi"
      ],
      "execution_count": null,
      "outputs": []
    },
    {
      "cell_type": "code",
      "metadata": {
        "id": "yIzHDJRnvmzv",
        "colab_type": "code",
        "colab": {}
      },
      "source": [
        "y_test_sapi"
      ],
      "execution_count": null,
      "outputs": []
    },
    {
      "cell_type": "code",
      "metadata": {
        "id": "tEYUMzVCvmzy",
        "colab_type": "code",
        "colab": {}
      },
      "source": [
        "# visulizing the test data\n",
        "# plt.plot(wti['WTI'], color = 'red', label = \"Real Oil Price\")\n",
        "plt.figure(figsize=(8,5))\n",
        "plt.plot(y_test_sapi, color = 'blue', label = \"Acutal Oil Price\")\n",
        "plt.plot(y_pred_sapi, color = 'red',label = 'Predicted Oil Price')\n",
        "plt.title('WTI Crude Oil Price Prediction with LSTM Sequential Api')\n",
        "plt.xlabel('Time (days)')\n",
        "plt.ylabel('WTI Oil Price')\n",
        "plt.legend()\n",
        "plt.show()"
      ],
      "execution_count": null,
      "outputs": []
    },
    {
      "cell_type": "markdown",
      "metadata": {
        "id": "mjnv7ddNvmz1",
        "colab_type": "text"
      },
      "source": [
        "#### 4.4 Performance valuation of LSTM Squential Model in Crude Oil Price Prediction"
      ]
    },
    {
      "cell_type": "code",
      "metadata": {
        "id": "BkePQJTOvmz1",
        "colab_type": "code",
        "colab": {}
      },
      "source": [
        "print(\"Mean absolute error: %.2f\" % mean_absolute_error(y_pred_sapi, y_test_sapi))"
      ],
      "execution_count": null,
      "outputs": []
    },
    {
      "cell_type": "code",
      "metadata": {
        "id": "tqKjvspZvmz3",
        "colab_type": "code",
        "colab": {}
      },
      "source": [
        "print(\"Mean_squared_error: %.2f\" % mean_squared_error(y_pred_sapi, y_test_sapi))"
      ],
      "execution_count": null,
      "outputs": []
    },
    {
      "cell_type": "code",
      "metadata": {
        "id": "EkpL9IZOvmz-",
        "colab_type": "code",
        "colab": {}
      },
      "source": [
        "print(\"R2-score: %.2f\" % r2_score(y_pred_sapi, y_test_sapi) )"
      ],
      "execution_count": null,
      "outputs": []
    },
    {
      "cell_type": "markdown",
      "metadata": {
        "id": "4zwKz0s5vm0B",
        "colab_type": "text"
      },
      "source": [
        "### 5 Predict WTI Crude Oil Price with LSTM Model Using Functional API"
      ]
    },
    {
      "cell_type": "markdown",
      "metadata": {
        "id": "-f9nMesxvm0C",
        "colab_type": "text"
      },
      "source": [
        "#### 5.1 Preprocess Training Dataset for LSTM Model Prediction with Functional API "
      ]
    },
    {
      "cell_type": "code",
      "metadata": {
        "id": "WMQ0enyjvm0D",
        "colab_type": "code",
        "colab": {}
      },
      "source": [
        "# define the batch size, epochs and timesteps\n",
        "batch_size = 64\n",
        "epochs = 160\n",
        "timesteps = 30"
      ],
      "execution_count": null,
      "outputs": []
    },
    {
      "cell_type": "code",
      "metadata": {
        "id": "twqU_8LDvm0G",
        "colab_type": "code",
        "colab": {}
      },
      "source": [
        "# split the oil price dataset at a 10% ratio\n",
        "length = len(wti)\n",
        "print(length)\n",
        "length *= 1 - 0.1\n",
        "print(length)"
      ],
      "execution_count": null,
      "outputs": []
    },
    {
      "cell_type": "code",
      "metadata": {
        "id": "sYrjNWRhvm0I",
        "colab_type": "code",
        "colab": {}
      },
      "source": [
        "# find the remainder of dataset length divided by batch size\n",
        "7805%64.0"
      ],
      "execution_count": null,
      "outputs": []
    },
    {
      "cell_type": "code",
      "metadata": {
        "id": "a1wQ52etvm0N",
        "colab_type": "code",
        "colab": {}
      },
      "source": [
        "# find the maximum length with a remainder 0 after being divided by batch size\n",
        "7744%64.0"
      ],
      "execution_count": null,
      "outputs": []
    },
    {
      "cell_type": "code",
      "metadata": {
        "id": "R9OrVYtKvm0P",
        "colab_type": "code",
        "colab": {}
      },
      "source": [
        "# define a function to get the length of training dataset\n",
        "def get_train_length(dataset, batch_size, test_percent):\n",
        "    # substract test_percent to be excluded from training, reserved for testset\n",
        "    length = len(dataset)\n",
        "    length *= 1 - test_percent\n",
        "    train_length_values = []\n",
        "    for x in range(int(length) - 100,int(length)): \n",
        "        modulo=x%batch_size\n",
        "        if (modulo == 0):\n",
        "            train_length_values.append(x)\n",
        "            print(x)\n",
        "    return (max(train_length_values))\n",
        "\n",
        "length = get_train_length(wti, batch_size, 0.1)\n",
        "print(length)"
      ],
      "execution_count": null,
      "outputs": []
    },
    {
      "cell_type": "code",
      "metadata": {
        "id": "IFd3GOHZvm0S",
        "colab_type": "code",
        "colab": {}
      },
      "source": [
        "#Adding timesteps * 2\n",
        "upper_train = length + timesteps*2\n",
        "wti_train = wti[0:upper_train]\n",
        "training_fapi = wti_train.iloc[:,1:2].values\n",
        "training_fapi.shape"
      ],
      "execution_count": null,
      "outputs": []
    },
    {
      "cell_type": "code",
      "metadata": {
        "id": "WcgVgUgyvm0a",
        "colab_type": "code",
        "colab": {}
      },
      "source": [
        "# Feature Scaling. Scale between 0 and 1. The weights are esier to find.\n",
        "scaler = MinMaxScaler()\n",
        "training_fapi_scaled = scaler.fit_transform(np.float64(training_fapi))\n",
        "training_fapi_scaled.shape"
      ],
      "execution_count": null,
      "outputs": []
    },
    {
      "cell_type": "code",
      "metadata": {
        "id": "xS8DXlV0vm0b",
        "colab_type": "code",
        "colab": {}
      },
      "source": [
        "# construct a training set for LSTM Model using Functional API\n",
        "\n",
        "X_train_fapi = []\n",
        "y_train_fapi = []\n",
        "\n",
        "# Creating a data structure with n timesteps\n",
        "print(length + timesteps)\n",
        "for i in range(timesteps, length + timesteps): \n",
        "    X_train_fapi.append(training_fapi_scaled[i-timesteps:i,0])\n",
        "    y_train_fapi.append(training_fapi_scaled[i:i+timesteps,0])\n",
        "\n",
        "print(len(X_train_fapi))\n",
        "print(len(y_train_fapi))\n",
        "\n",
        "#create X_train matrix\n",
        "#30 items per array (timestep) \n",
        "print(X_train_fapi[0:2])\n",
        "print(np.array(X_train_fapi).shape)\n",
        "\n",
        "#create Y_train matrix\n",
        "#30 items per array (timestep) \n",
        "print(y_train_fapi[0:2])\n",
        "print(np.array(y_train_fapi).shape)"
      ],
      "execution_count": null,
      "outputs": []
    },
    {
      "cell_type": "code",
      "metadata": {
        "id": "Tn0KYUdYvm0e",
        "colab_type": "code",
        "colab": {}
      },
      "source": [
        "# reshaping training dataset\n",
        "X_train_fapi, y_train_fapi = np.array(X_train_fapi), np.array(y_train_fapi)\n",
        "X_train_fapi = np.reshape(X_train_fapi, (X_train_fapi.shape[0], X_train_fapi.shape[1], 1))\n",
        "y_train_fapi = np.reshape(y_train_fapi, (y_train_fapi.shape[0], y_train_fapi.shape[1], 1))\n",
        "print(X_train_fapi.shape)\n",
        "print(y_train_fapi.shape)"
      ],
      "execution_count": null,
      "outputs": []
    },
    {
      "cell_type": "markdown",
      "metadata": {
        "id": "Wkf4U3wMvm0g",
        "colab_type": "text"
      },
      "source": [
        "#### 5.2 Design LSTM Model Using Functional API"
      ]
    },
    {
      "cell_type": "code",
      "metadata": {
        "id": "Bp1mkq0Nvm0h",
        "colab_type": "code",
        "colab": {}
      },
      "source": [
        "# initialising the LSTM Model with MSE Loss Function\n",
        "\n",
        "inputs_1_mse = Input(batch_shape=(batch_size,timesteps,1))\n",
        "lstm_1_mse = LSTM(10, stateful=True, return_sequences=True)(inputs_1_mse)\n",
        "lstm_2_mse = LSTM(10, stateful=True, return_sequences=True)(lstm_1_mse)\n",
        "\n",
        "output_1_mse = Dense(units = 1)(lstm_2_mse)\n",
        "\n",
        "regressor_mse = Model(inputs=inputs_1_mse, outputs = output_1_mse)\n",
        "\n",
        "#mse -> mean squared error as loss function\n",
        "regressor_mse.compile(optimizer='adam', loss = 'mse')\n",
        "regressor_mse.summary()"
      ],
      "execution_count": null,
      "outputs": []
    },
    {
      "cell_type": "code",
      "metadata": {
        "id": "uY7sRi1Hvm0i",
        "colab_type": "code",
        "colab": {}
      },
      "source": [
        "# 1st LSTM layer paramters\n",
        "parameters = 4 * 10 * (1 + 10 + 1)\n",
        "print(parameters)"
      ],
      "execution_count": null,
      "outputs": []
    },
    {
      "cell_type": "code",
      "metadata": {
        "id": "mYefmk1cvm0l",
        "colab_type": "code",
        "colab": {}
      },
      "source": [
        "# 2nd LSTM layer parameters\n",
        "parameters = 4 * 10 * (10 + 10 + 1)\n",
        "print(parameters)"
      ],
      "execution_count": null,
      "outputs": []
    },
    {
      "cell_type": "code",
      "metadata": {
        "id": "3WCeCO4Ovm0n",
        "colab_type": "code",
        "colab": {}
      },
      "source": [
        "for i in range(epochs):\n",
        "    print(\"Epoch: \" + str(i))\n",
        "    # run through all data but the cell, hidden state are used for the next batch.\n",
        "    # influence of the number of epochs were investigated.\n",
        "    regressor_mse.fit(X_train_fapi, y_train_fapi, shuffle=False, epochs = 1, batch_size = batch_size)\n",
        "    # resets only the states but the weights, cell and hidden are kept.\n",
        "    regressor_mse.reset_states()"
      ],
      "execution_count": null,
      "outputs": []
    },
    {
      "cell_type": "code",
      "metadata": {
        "id": "q8c8E1Lxvm0p",
        "colab_type": "code",
        "colab": {}
      },
      "source": [
        "#save model\n",
        "regressor_mse.save(\"my_opmodel.h5\")\n",
        "print(\"Saved model to local\")"
      ],
      "execution_count": null,
      "outputs": []
    },
    {
      "cell_type": "code",
      "metadata": {
        "id": "xje8aVJRvm0q",
        "colab_type": "code",
        "colab": {}
      },
      "source": [
        "#load model\n",
        "regressor_mse = load_model(\"my_opmodel.h5\")"
      ],
      "execution_count": null,
      "outputs": []
    },
    {
      "cell_type": "markdown",
      "metadata": {
        "id": "sJM1EQovvm0t",
        "colab_type": "text"
      },
      "source": [
        "#### 5.3 Construct Test Dataset"
      ]
    },
    {
      "cell_type": "code",
      "metadata": {
        "id": "fKtqTKBAvm0t",
        "colab_type": "code",
        "colab": {}
      },
      "source": [
        "# define a function to get the length of training dataset\n",
        "def get_test_length(dataset, batch_size):\n",
        "    \n",
        "    test_length_values = []\n",
        "    for x in range(len(dataset) - 200, len(dataset) - timesteps*2): \n",
        "        modulo=(x-upper_train)%batch_size\n",
        "        if (modulo == 0):\n",
        "            test_length_values.append(x)\n",
        "            print(x)\n",
        "    return (max(test_length_values))"
      ],
      "execution_count": null,
      "outputs": []
    },
    {
      "cell_type": "code",
      "metadata": {
        "id": "S3f_CQA4vm0x",
        "colab_type": "code",
        "colab": {}
      },
      "source": [
        "test_length = get_test_length(wti, batch_size)\n",
        "print(test_length)\n",
        "upper_test = test_length + timesteps*2\n",
        "testset_length = test_length - upper_train\n",
        "print(testset_length)"
      ],
      "execution_count": null,
      "outputs": []
    },
    {
      "cell_type": "code",
      "metadata": {
        "id": "U937r_ifvm0y",
        "colab_type": "code",
        "colab": {}
      },
      "source": [
        "print(upper_train, upper_test, len(wti))"
      ],
      "execution_count": null,
      "outputs": []
    },
    {
      "cell_type": "code",
      "metadata": {
        "id": "Ri7xQD2mvm00",
        "colab_type": "code",
        "colab": {}
      },
      "source": [
        "#subsetting\n",
        "wti_test_fapi = wti[upper_train:upper_test] \n",
        "test_fapi = wti_test_fapi.iloc[:,1:2].values\n",
        "\n",
        "#scaling\n",
        "scaled_real_bcg_values_test = scaler.fit_transform(np.float64(test_fapi))\n",
        "\n",
        "#creating input data\n",
        "X_test_fapi = []\n",
        "for i in range(timesteps, testset_length + timesteps):\n",
        "    X_test_fapi.append(scaled_real_bcg_values_test[i-timesteps:i, 0])\n",
        "X_test_fapi = np.array(X_test_fapi)\n",
        "\n",
        "\n",
        "#reshaping\n",
        "X_test_fapi = np.reshape(X_test_fapi, (X_test_fapi.shape[0], X_test_fapi.shape[1], 1))"
      ],
      "execution_count": null,
      "outputs": []
    },
    {
      "cell_type": "code",
      "metadata": {
        "id": "QqmQwHucvm03",
        "colab_type": "code",
        "colab": {}
      },
      "source": [
        "X_test_fapi.shape"
      ],
      "execution_count": null,
      "outputs": []
    },
    {
      "cell_type": "markdown",
      "metadata": {
        "id": "2IVfplUcvm07",
        "colab_type": "text"
      },
      "source": [
        "#### 5.4 Predict and Visualize of the Testset WTI Crude Oil Price"
      ]
    },
    {
      "cell_type": "code",
      "metadata": {
        "id": "Ygfx0Acivm07",
        "colab_type": "code",
        "colab": {}
      },
      "source": [
        "# prediction\n",
        "predicted_bcg_values_test_mse = regressor_mse.predict(X_test_fapi, batch_size=batch_size)\n",
        "regressor_mse.reset_states()\n",
        "\n",
        "print(predicted_bcg_values_test_mse.shape)\n",
        "\n",
        "# reshaping\n",
        "predicted_bcg_values_test_mse = np.reshape(predicted_bcg_values_test_mse, \n",
        "                                       (predicted_bcg_values_test_mse.shape[0], \n",
        "                                        predicted_bcg_values_test_mse.shape[1]))\n",
        "print(predicted_bcg_values_test_mse.shape)\n",
        "\n",
        "# inverse transform\n",
        "predicted_bcg_values_test_mse = scaler.inverse_transform(predicted_bcg_values_test_mse)\n",
        "\n",
        "# creating y_test data\n",
        "y_pred_fapi = []\n",
        "\n",
        "for j in range(0, testset_length - timesteps):\n",
        "    y_pred_fapi = np.append(y_pred_fapi, predicted_bcg_values_test_mse[j, timesteps-1])\n",
        "\n",
        "# reshaping\n",
        "y_pred_fapi = np.reshape(y_pred_fapi, (y_pred_fapi.shape[0], 1))\n",
        "\n",
        "print(y_pred_fapi.shape)"
      ],
      "execution_count": null,
      "outputs": []
    },
    {
      "cell_type": "code",
      "metadata": {
        "id": "pcwOpxrKvm09",
        "colab_type": "code",
        "colab": {}
      },
      "source": [
        "# visualising the results\n",
        "plt.figure(figsize=(8,5))\n",
        "plt.plot(test_fapi[timesteps:len(y_pred_fapi)].astype(float), color = 'blue', label = 'Actual Crude Oil Prices')\n",
        "plt.plot(y_pred_fapi[0:len(y_pred_fapi) - timesteps], color = 'red', label = 'Predicted Crude Oil Prices')\n",
        "plt.title('WTI Crude Oil Prices Prediction with LSTM Functional Api')\n",
        "plt.xlabel('Time (days)')\n",
        "plt.ylabel('Crude Oil Prices')\n",
        "plt.legend()\n",
        "plt.show()"
      ],
      "execution_count": null,
      "outputs": []
    },
    {
      "cell_type": "markdown",
      "metadata": {
        "id": "RlaMfomzvm1A",
        "colab_type": "text"
      },
      "source": [
        "#### 5.5 Evaluate the Performance of LSTM Model in Predicting the Oil Price Using Functional API"
      ]
    },
    {
      "cell_type": "code",
      "metadata": {
        "id": "rGUsqcgqvm1A",
        "colab_type": "code",
        "colab": {}
      },
      "source": [
        "print(\"Mean absolute error: %.2f\" % \n",
        "      mean_absolute_error(test_fapi[timesteps:len(y_pred_fapi)], y_pred_fapi[0:len(y_pred_fapi) - timesteps]))"
      ],
      "execution_count": null,
      "outputs": []
    },
    {
      "cell_type": "code",
      "metadata": {
        "id": "e5SZ2KIFvm1D",
        "colab_type": "code",
        "colab": {}
      },
      "source": [
        "print(\"Mean_squared_error: %.2f\" % \n",
        "      mean_squared_error(test_fapi[timesteps:len(y_pred_fapi)], y_pred_fapi[0:len(y_pred_fapi) - timesteps]))"
      ],
      "execution_count": null,
      "outputs": []
    },
    {
      "cell_type": "code",
      "metadata": {
        "id": "GVpFMUcKvm1G",
        "colab_type": "code",
        "colab": {}
      },
      "source": [
        "print(\"R2-score: %.2f\" % \n",
        "      r2_score(test_fapi[timesteps:len(y_pred_fapi)], y_pred_fapi[0:len(y_pred_fapi) - timesteps]) )"
      ],
      "execution_count": null,
      "outputs": []
    }
  ]
}